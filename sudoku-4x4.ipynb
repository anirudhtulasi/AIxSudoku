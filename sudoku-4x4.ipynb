{
 "cells": [
  {
   "cell_type": "code",
   "execution_count": 1,
   "metadata": {},
   "outputs": [],
   "source": [
    "from copy import deepcopy\n",
    "\n",
    "Grid = [['.', '.', '2', '3'],\n",
    "        ['.', '.', '.', '.'],\n",
    "        ['.', '.', '.', '.'],\n",
    "        ['3', '4', '.', '.']]\n",
    "\n",
    "## NEEDS EDITTING\n",
    "elements = ['1', '2', '3', '4']"
   ]
  },
  {
   "cell_type": "code",
   "execution_count": 2,
   "metadata": {},
   "outputs": [],
   "source": [
    "def get_rows(new_Grid):\n",
    "    rows = []\n",
    "    ## NEEDS EDITTING\n",
    "    for r in range(0,4):\n",
    "        row = {}\n",
    "        for c in range(0,4):\n",
    "            row[(r,c)] = new_Grid[r][c]\n",
    "        rows.append(row)            \n",
    "    return rows"
   ]
  },
  {
   "cell_type": "code",
   "execution_count": 3,
   "metadata": {},
   "outputs": [
    {
     "name": "stdout",
     "output_type": "stream",
     "text": [
      "{(0, 0): '.', (0, 1): '.', (0, 2): '2', (0, 3): '3'}\n",
      "{(1, 0): '.', (1, 1): '.', (1, 2): '.', (1, 3): '.'}\n",
      "{(2, 0): '.', (2, 1): '.', (2, 2): '.', (2, 3): '.'}\n",
      "{(3, 0): '3', (3, 1): '4', (3, 2): '.', (3, 3): '.'}\n"
     ]
    }
   ],
   "source": [
    "## This cell is only for clarification and it is not part of the original code\n",
    "rows = get_rows(Grid)\n",
    "for r in rows:\n",
    "    print(r)"
   ]
  },
  {
   "cell_type": "code",
   "execution_count": 4,
   "metadata": {},
   "outputs": [],
   "source": [
    "def get_cols(new_Grid):\n",
    "    cols = []\n",
    "    ## NEEDS EDITTING\n",
    "    for c in range(0,4):\n",
    "        col = {}\n",
    "        for r in range(0,4):\n",
    "            col[(r,c)] = new_Grid[r][c]\n",
    "        cols.append(col)\n",
    "    return cols"
   ]
  },
  {
   "cell_type": "code",
   "execution_count": 5,
   "metadata": {},
   "outputs": [
    {
     "name": "stdout",
     "output_type": "stream",
     "text": [
      "{(0, 0): '.', (1, 0): '.', (2, 0): '.', (3, 0): '3'}\n",
      "{(0, 1): '.', (1, 1): '.', (2, 1): '.', (3, 1): '4'}\n",
      "{(0, 2): '2', (1, 2): '.', (2, 2): '.', (3, 2): '.'}\n",
      "{(0, 3): '3', (1, 3): '.', (2, 3): '.', (3, 3): '.'}\n"
     ]
    }
   ],
   "source": [
    "## This cell is only for clarification and it is not part of the original code\n",
    "cols = get_cols(Grid)\n",
    "for c in cols:\n",
    "    print(c)"
   ]
  },
  {
   "cell_type": "code",
   "execution_count": 6,
   "metadata": {},
   "outputs": [],
   "source": [
    "## NEEDS EDITTING\n",
    "square_indx = [[(0,1),(0,1)],\n",
    "               [(0,1),(2,3)],\n",
    "               [(2,3),(0,1)],\n",
    "               [(2,3),(2,3)]\n",
    "              ]\n",
    "\n",
    "def get_squares(new_Grid):\n",
    "    squares = []\n",
    "    ## NEEDS EDITTING\n",
    "    for sq in range(0,4):\n",
    "        square = {}\n",
    "        for r in square_indx[sq][0]:\n",
    "            for c in square_indx[sq][1]:\n",
    "                square[(r,c)]=new_Grid[r][c]\n",
    "        squares.append(square)\n",
    "    return squares"
   ]
  },
  {
   "cell_type": "code",
   "execution_count": 7,
   "metadata": {},
   "outputs": [
    {
     "name": "stdout",
     "output_type": "stream",
     "text": [
      "{(0, 0): '.', (0, 1): '.', (1, 0): '.', (1, 1): '.'}\n",
      "{(0, 2): '2', (0, 3): '3', (1, 2): '.', (1, 3): '.'}\n",
      "{(2, 0): '.', (2, 1): '.', (3, 0): '3', (3, 1): '4'}\n",
      "{(2, 2): '.', (2, 3): '.', (3, 2): '.', (3, 3): '.'}\n"
     ]
    }
   ],
   "source": [
    "## This cell is only for clarification and it is not part of the original code\n",
    "squares = get_squares(Grid)\n",
    "for sq in squares:\n",
    "    print(sq)"
   ]
  },
  {
   "cell_type": "code",
   "execution_count": 8,
   "metadata": {},
   "outputs": [],
   "source": [
    "def get_all_related_cells(new_Grid):\n",
    "    ## NEEDS EDITTING\n",
    "    rows = get_rows(new_Grid)\n",
    "    cols = get_cols(new_Grid)\n",
    "    squares = get_squares(new_Grid)\n",
    "    \n",
    "    all_vec = squares + rows + cols\n",
    "    return all_vec"
   ]
  },
  {
   "cell_type": "code",
   "execution_count": 9,
   "metadata": {},
   "outputs": [
    {
     "name": "stdout",
     "output_type": "stream",
     "text": [
      "{(0, 0): '.', (0, 1): '.', (1, 0): '.', (1, 1): '.'}\n",
      "{(0, 2): '2', (0, 3): '3', (1, 2): '.', (1, 3): '.'}\n",
      "{(2, 0): '.', (2, 1): '.', (3, 0): '3', (3, 1): '4'}\n",
      "{(2, 2): '.', (2, 3): '.', (3, 2): '.', (3, 3): '.'}\n",
      "{(0, 0): '.', (0, 1): '.', (0, 2): '2', (0, 3): '3'}\n",
      "{(1, 0): '.', (1, 1): '.', (1, 2): '.', (1, 3): '.'}\n",
      "{(2, 0): '.', (2, 1): '.', (2, 2): '.', (2, 3): '.'}\n",
      "{(3, 0): '3', (3, 1): '4', (3, 2): '.', (3, 3): '.'}\n",
      "{(0, 0): '.', (1, 0): '.', (2, 0): '.', (3, 0): '3'}\n",
      "{(0, 1): '.', (1, 1): '.', (2, 1): '.', (3, 1): '4'}\n",
      "{(0, 2): '2', (1, 2): '.', (2, 2): '.', (3, 2): '.'}\n",
      "{(0, 3): '3', (1, 3): '.', (2, 3): '.', (3, 3): '.'}\n"
     ]
    }
   ],
   "source": [
    "## This cell is only for clarification and it is not part of the original code\n",
    "all_vec = get_all_related_cells(Grid)\n",
    "for vector in all_vec:\n",
    "    print(vector)"
   ]
  },
  {
   "cell_type": "code",
   "execution_count": 10,
   "metadata": {},
   "outputs": [],
   "source": [
    "def get_new_r_c(r, c):\n",
    "    ## NEEDS EDITTING\n",
    "    if c == 3:\n",
    "        if r == 3:\n",
    "            new_r = r\n",
    "            new_c = c\n",
    "        else:\n",
    "            new_r = r+1\n",
    "            new_c = 0\n",
    "    else:\n",
    "        new_r = r\n",
    "        new_c = c+1  \n",
    "    return new_r, new_c"
   ]
  },
  {
   "cell_type": "code",
   "execution_count": 11,
   "metadata": {},
   "outputs": [
    {
     "name": "stdout",
     "output_type": "stream",
     "text": [
      "(0, 1)\n",
      "(1, 0)\n",
      "(2, 0)\n",
      "(3, 0)\n"
     ]
    }
   ],
   "source": [
    "## This cell is only for clarification and it is not part of the original code\n",
    "print(get_new_r_c(0,0))\n",
    "print(get_new_r_c(0,3))\n",
    "print(get_new_r_c(1,3))\n",
    "print(get_new_r_c(2,3))"
   ]
  },
  {
   "cell_type": "code",
   "execution_count": 12,
   "metadata": {},
   "outputs": [],
   "source": [
    "def get_legal_for_cell(cell_r, cell_c, new_Grid):\n",
    "    ## NEEDS EDITTING\n",
    "    if new_Grid[cell_r][cell_c] !='.':\n",
    "        return [None], [None], [None]\n",
    "\n",
    "    map = {}\n",
    "    ## NEEDS EDITTING\n",
    "    all_groups = get_all_related_cells(new_Grid)\n",
    "    for group in all_groups:\n",
    "        if(cell_r,cell_c) in group.keys():\n",
    "            map.update(group)\n",
    "        \n",
    "                                      \n",
    "\n",
    "    exist = []\n",
    "    ## NEEDS EDITTING\n",
    "    for m in map:\n",
    "        if not map[m] == '.':\n",
    "            exist.append(map[m])\n",
    "\n",
    "    ## NEEDS EDITTING\n",
    "    rest = list(set(elements)-set(exist))\n",
    "    \n",
    "    return rest, exist, map"
   ]
  },
  {
   "cell_type": "code",
   "execution_count": 13,
   "metadata": {},
   "outputs": [
    {
     "name": "stdout",
     "output_type": "stream",
     "text": [
      "{(0, 0): '.', (0, 1): '.', (1, 0): '.', (1, 1): '.', (0, 2): '2', (0, 3): '3', (2, 0): '.', (3, 0): '3'}\n",
      "['2', '3', '3']\n",
      "['1', '4']\n"
     ]
    }
   ],
   "source": [
    "## This cell is only for clarification and it is not part of the original code\n",
    "r = 0\n",
    "c = 0\n",
    "legal_for_cell, exist, map = get_legal_for_cell(r, c, Grid)\n",
    "print(map)\n",
    "print(exist)\n",
    "print(legal_for_cell)"
   ]
  },
  {
   "cell_type": "code",
   "execution_count": 14,
   "metadata": {},
   "outputs": [],
   "source": [
    "def is_complete(new_Grid):\n",
    "    grid_complete = True\n",
    "    for r in new_Grid:\n",
    "        grid_complete = grid_complete and not ('.' in r)\n",
    "    return grid_complete\n",
    "\n",
    "def print_grid(new_Grid):\n",
    "    for item in new_Grid:\n",
    "        print(item)\n",
    "    print()"
   ]
  },
  {
   "cell_type": "code",
   "execution_count": 15,
   "metadata": {},
   "outputs": [
    {
     "name": "stdout",
     "output_type": "stream",
     "text": [
      "False\n"
     ]
    }
   ],
   "source": [
    "## This cell is only for clarification and it is not part of the original code\n",
    "print(is_complete(Grid))"
   ]
  },
  {
   "cell_type": "code",
   "execution_count": 16,
   "metadata": {},
   "outputs": [
    {
     "name": "stdout",
     "output_type": "stream",
     "text": [
      "['.', '.', '2', '3']\n",
      "['.', '.', '.', '.']\n",
      "['.', '.', '.', '.']\n",
      "['3', '4', '.', '.']\n",
      "\n"
     ]
    }
   ],
   "source": [
    "## This cell is only for clarification and it is not part of the original code\n",
    "print_grid(Grid)"
   ]
  },
  {
   "cell_type": "code",
   "execution_count": 17,
   "metadata": {},
   "outputs": [
    {
     "name": "stdout",
     "output_type": "stream",
     "text": [
      "x: [50, 2, 150, 200]\n",
      "y: [50, 2, 150, 200]\n",
      "z: [1, 2, 3]\n"
     ]
    }
   ],
   "source": [
    "## This cell is only for clarification and it is not part of the original code\n",
    "# Explaining deep copy\n",
    "from copy import deepcopy\n",
    "x = [1,2,3]\n",
    "y = x\n",
    "z = deepcopy(x)\n",
    "x[0] = 50\n",
    "x[2] = 150\n",
    "x.append(200)\n",
    "print('x:', x)\n",
    "print('y:',y)\n",
    "print(\"z:\",z)"
   ]
  },
  {
   "cell_type": "code",
   "execution_count": 18,
   "metadata": {
    "scrolled": true
   },
   "outputs": [
    {
     "name": "stdout",
     "output_type": "stream",
     "text": [
      "1  1  2  3  5  8  13  21  34  55  89  "
     ]
    }
   ],
   "source": [
    "## This cell is only for clarification and it is not part of the original code\n",
    "## f(n) = f(n-1) + f(n-2)\n",
    "def fibonacci(n):\n",
    "    ## NEEDS EDITTING\n",
    "    if n==1 or n==2:\n",
    "        return 1\n",
    "    return fibonacci(n-1)+fibonacci(n-2)\n",
    "\n",
    "for i in range(1,12):\n",
    "    print(fibonacci(i), end = '  ')"
   ]
  },
  {
   "cell_type": "code",
   "execution_count": 19,
   "metadata": {},
   "outputs": [
    {
     "name": "stdout",
     "output_type": "stream",
     "text": [
      "Complete: \n",
      "['4', '1', '2', '3']\n",
      "['2', '3', '4', '1']\n",
      "['1', '2', '3', '4']\n",
      "['3', '4', '1', '2']\n",
      "\n"
     ]
    }
   ],
   "source": [
    "def solve_step_in_sudoko(last_Grid, r, c):\n",
    "    ## NEEDS EDITTING\n",
    "    if is_complete(last_Grid):\n",
    "        print('Complete: ')\n",
    "        print_grid(last_Grid)\n",
    "        return 0\n",
    "    ## NEEDS EDITTING\n",
    "    legal_for_cell, _, _ = get_legal_for_cell(r,c,last_Grid)\n",
    "    ## NEEDS EDITTING\n",
    "    for item in legal_for_cell:\n",
    "        new_Grid = deepcopy(last_Grid)\n",
    "        if last_Grid[r][c]=='.':\n",
    "            new_Grid[r][c] = item\n",
    "            \n",
    "        new_r,new_c = get_new_r_c(r,c)\n",
    "    ## NEEDS EDITTING\n",
    "    solve_step_in_sudoko(new_Grid,new_r,new_c)\n",
    "    \n",
    "solve_step_in_sudoko(Grid, 0, 0)"
   ]
  },
  {
   "cell_type": "code",
   "execution_count": null,
   "metadata": {},
   "outputs": [],
   "source": []
  }
 ],
 "metadata": {
  "kernelspec": {
   "display_name": "Python 3",
   "language": "python",
   "name": "python3"
  },
  "language_info": {
   "codemirror_mode": {
    "name": "ipython",
    "version": 3
   },
   "file_extension": ".py",
   "mimetype": "text/x-python",
   "name": "python",
   "nbconvert_exporter": "python",
   "pygments_lexer": "ipython3",
   "version": "3.8.5"
  }
 },
 "nbformat": 4,
 "nbformat_minor": 4
}
